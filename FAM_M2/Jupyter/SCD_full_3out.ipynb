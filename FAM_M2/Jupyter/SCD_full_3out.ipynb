{
 "cells": [
  {
   "cell_type": "code",
   "execution_count": null,
   "metadata": {},
   "outputs": [
    {
     "data": {
      "application/javascript": [
       "\n",
       "try {\n",
       "require(['notebook/js/codecell'], function(codecell) {\n",
       "  codecell.CodeCell.options_default.highlight_modes[\n",
       "      'magic_text/x-csrc'] = {'reg':[/^%%microblaze/]};\n",
       "  Jupyter.notebook.events.one('kernel_ready.Kernel', function(){\n",
       "      Jupyter.notebook.get_cells().map(function(cell){\n",
       "          if (cell.cell_type == 'code'){ cell.auto_highlight(); } }) ;\n",
       "  });\n",
       "});\n",
       "} catch (e) {};\n"
      ]
     },
     "metadata": {},
     "output_type": "display_data"
    },
    {
     "data": {
      "application/javascript": [
       "\n",
       "try {\n",
       "require(['notebook/js/codecell'], function(codecell) {\n",
       "  codecell.CodeCell.options_default.highlight_modes[\n",
       "      'magic_text/x-csrc'] = {'reg':[/^%%pybind11/]};\n",
       "  Jupyter.notebook.events.one('kernel_ready.Kernel', function(){\n",
       "      Jupyter.notebook.get_cells().map(function(cell){\n",
       "          if (cell.cell_type == 'code'){ cell.auto_highlight(); } }) ;\n",
       "  });\n",
       "});\n",
       "} catch (e) {};\n"
      ]
     },
     "metadata": {},
     "output_type": "display_data"
    }
   ],
   "source": [
    "import pynq\n",
    "import numpy as np\n",
    "from tqdm import tqdm\n",
    "import time\n",
    "#from sklearn.metrics import average_precision_score, roc_auc_score\n",
    "\n",
    "# 通过PYNQ将合成电路写入FPGA中\n",
    "ol_loda = pynq.Overlay('./SCD_Inter_Full_16161616.bit')\n",
    "mSCD = ol_loda.model_SCD_0\n",
    "mM2M = ol_loda.Multi2Multi_0\n",
    "mM2O = ol_loda.Multi2One_0\n",
    "\n",
    "CONTROL_REGISTER = 0x0\n",
    "mM2O.register_map"
   ]
  },
  {
   "cell_type": "code",
   "execution_count": null,
   "metadata": {},
   "outputs": [],
   "source": [
    "def _load_via_txt(path):\n",
    "    X = np.loadtxt(path, delimiter=\",\")\n",
    "    return X\n",
    "\n",
    "def get_data(data_file):\n",
    "    #data_path = os.path.join(data_base_path, data_file)\n",
    "    data_path = data_file\n",
    "    if \".mat\" in data_file:\n",
    "        from scipy.io import loadmat\n",
    "        f = loadmat(data_path)\n",
    "        X = f['X']\n",
    "    else:\n",
    "        X = _load_via_txt(data_path)\n",
    "    return X\n",
    "\n",
    "X_train = get_data(\"./deepsig.dat\")  # Load Aryhytmia data.\n",
    "print(\"X_train.shape = \",X_train.shape)"
   ]
  },
  {
   "cell_type": "code",
   "execution_count": null,
   "metadata": {},
   "outputs": [],
   "source": [
    "# 使用AXI DMA进行存储器传输\n",
    "dma_i = ol_loda.axi_dma_0.sendchannel\n",
    "dma_q = ol_loda.axi_dma_1.sendchannel\n",
    "dma_v = ol_loda.axi_dma_2.recvchannel\n",
    "dma_a = ol_loda.axi_dma_3.recvchannel\n",
    "dma_f = ol_loda.axi_dma_4.recvchannel\n",
    "# 处理大量数据\n",
    "N = 2048 # X_train.shape[0]\n",
    "Nout = 32768\n",
    "NSamples = 100\n",
    "\n",
    "buff_x = pynq.allocate(shape=(NSamples*N,), dtype=np.float32)\n",
    "buff_y = pynq.allocate(shape=(NSamples*N,), dtype=np.float32)\n",
    "buff_value = pynq.allocate(shape=(NSamples*Nout,), dtype=np.float32)\n",
    "buff_al = pynq.allocate(shape=(NSamples*Nout,), dtype=np.int16)\n",
    "buff_fl = pynq.allocate(shape=(NSamples*Nout,), dtype=np.int16)\n",
    "\n",
    "# print(\"X_train[0:N] = \",X_train[0:N][:])\n",
    "\n",
    "\n",
    "for j in range (NSamples):\n",
    "    buff_x[j*N:(j+1)*N] = X_train[0:N,0]\n",
    "    buff_y[j*N:(j+1)*N] = X_train[0:N,1]\n",
    "    "
   ]
  },
  {
   "cell_type": "code",
   "execution_count": null,
   "metadata": {},
   "outputs": [],
   "source": [
    "start = time.time()\n",
    "mSCD.write(CONTROL_REGISTER, 0x81) # 0x81 will set bit 0\n",
    "mM2M.write(CONTROL_REGISTER, 0x81) # 0x81 will set bit 0\n",
    "mM2O.write(CONTROL_REGISTER, 0x81) # 0x81 will set bit 0\n",
    "\n",
    "dma_i.transfer(buff_x)\n",
    "dma_q.transfer(buff_y)\n",
    "dma_v.transfer(buff_value)\n",
    "dma_a.transfer(buff_al)\n",
    "dma_f.transfer(buff_fl)\n",
    "dma_i.wait()\n",
    "dma_q.wait()\n",
    "# dma_r.wait()\n",
    "end = time.time()\n",
    "mSCD.write(CONTROL_REGISTER,0x00) # stop\n",
    "mM2M.write(CONTROL_REGISTER,0x00) # stop\n",
    "mM2O.write(CONTROL_REGISTER,0x00) # stop\n",
    "time_cost= end-start\n",
    "print('=> Running on FPGA')\n",
    "print(time_cost)\n",
    "print()"
   ]
  },
  {
   "cell_type": "code",
   "execution_count": null,
   "metadata": {},
   "outputs": [],
   "source": [
    "# print(\"buff_y[0:N] = \",buff_y[0:10])\n",
    "# print(\"buff_y[-1] = \",buff_y[-1])\n",
    "# del buff_x, buff_y"
   ]
  },
  {
   "cell_type": "code",
   "execution_count": null,
   "metadata": {},
   "outputs": [],
   "source": [
    "buff_value[0]"
   ]
  },
  {
   "cell_type": "code",
   "execution_count": null,
   "metadata": {},
   "outputs": [],
   "source": [
    "x = np.arange(0,809)\n",
    "for i in x:\n",
    "    print(i,\":\",buff_value[i],\",\",buff_al[i],\",\",buff_fl[i])\n",
    "#     print(i,\";\",buff_z[i],\",\")"
   ]
  },
  {
   "cell_type": "code",
   "execution_count": null,
   "metadata": {},
   "outputs": [],
   "source": [
    "import re\n",
    "import math\n",
    "dat_file = r\"sparse_SCD_float_full16161616.dat\"   \n",
    "dm = []\n",
    "al = []\n",
    "fl = []\n",
    "with open(dat_file, 'r') as file:\n",
    "    text = file.read()\n",
    "    data = re.split(',|\\n', text)\n",
    "    for i in range(int((len(data)-1)/3)):\n",
    "        dm.append(float(data[i*3]))\n",
    "        al.append(int(data[i*3+1]))\n",
    "        fl.append(int(data[i*3+2]))"
   ]
  },
  {
   "cell_type": "code",
   "execution_count": null,
   "metadata": {},
   "outputs": [],
   "source": [
    "rdm = np.zeros(len(dm))\n",
    "ral = np.zeros(len(dm))\n",
    "rfl = np.zeros(len(dm))"
   ]
  },
  {
   "cell_type": "code",
   "execution_count": null,
   "metadata": {},
   "outputs": [],
   "source": [
    "for i in range(len(dm)):\n",
    "    for j in range(len(np.where(al==buff_al[i])[-1])):\n",
    "        if fl[np.where(al==buff_al[i])[0][j]] == buff_fl[i]:\n",
    "#             print(i)\n",
    "#             print(buff_al[i])\n",
    "#             print(np.where(al==buff_al[i])[0][j])\n",
    "#             print(fl[np.where(al==buff_al[i])[0][j]])\n",
    "#             print(buff_fl[i])\n",
    "#             print(buff_value[i])\n",
    "#             print(dm[np.where(al==buff_al[i])[0][j]])\n",
    "#             print('------------')\n",
    "            rdm[i]=dm[np.where(al==buff_al[i])[0][j]]\n",
    "            ral[i]=al[np.where(al==buff_al[i])[0][j]]\n",
    "            rfl[i]=fl[np.where(al==buff_al[i])[0][j]]"
   ]
  },
  {
   "cell_type": "code",
   "execution_count": null,
   "metadata": {},
   "outputs": [],
   "source": [
    "Psignal = np.sum(np.power(rdm,2))\n",
    "# Pnoise  = np.var(rdm-buff_value[0:len(rdm)])\n",
    "Pnoise  = np.sum(np.power(rdm-buff_value[0:len(rdm)],2))\n",
    "print(\"The SQNR is: \" , 10*math.log10(Psignal/Pnoise))"
   ]
  },
  {
   "cell_type": "code",
   "execution_count": null,
   "metadata": {},
   "outputs": [],
   "source": [
    "Psignal = np.sum(np.power(rdm,2))\n",
    "Pnoise  = np.var(rdm-buff_value[0:len(rdm)])\n",
    "print(\"The SQNR is: \" , 10*math.log10(Psignal/Pnoise))"
   ]
  },
  {
   "cell_type": "code",
   "execution_count": null,
   "metadata": {},
   "outputs": [],
   "source": [
    "for i in range(len(dm)):\n",
    "    print(str(i)+':'+str(rdm[i])+','+str(buff_value[i]))"
   ]
  },
  {
   "cell_type": "code",
   "execution_count": null,
   "metadata": {},
   "outputs": [],
   "source": [
    "np.max(rdm-buff_value[0:len(rdm)])"
   ]
  },
  {
   "cell_type": "code",
   "execution_count": null,
   "metadata": {},
   "outputs": [],
   "source": [
    "math.log2(np.max(rdm-buff_value[0:len(rdm)]))"
   ]
  },
  {
   "cell_type": "code",
   "execution_count": null,
   "metadata": {},
   "outputs": [],
   "source": [
    "np.power([1,2,3],2)"
   ]
  },
  {
   "cell_type": "code",
   "execution_count": null,
   "metadata": {},
   "outputs": [],
   "source": [
    "ral-buff_al[0:len(ral)]"
   ]
  },
  {
   "cell_type": "code",
   "execution_count": null,
   "metadata": {},
   "outputs": [],
   "source": [
    "rfl-buff_fl[0:len(rfl)]"
   ]
  },
  {
   "cell_type": "code",
   "execution_count": null,
   "metadata": {},
   "outputs": [],
   "source": []
  }
 ],
 "metadata": {
  "kernelspec": {
   "display_name": "Python 3",
   "language": "python",
   "name": "python3"
  },
  "language_info": {
   "codemirror_mode": {
    "name": "ipython",
    "version": 3
   },
   "file_extension": ".py",
   "mimetype": "text/x-python",
   "name": "python",
   "nbconvert_exporter": "python",
   "pygments_lexer": "ipython3",
   "version": "3.6.5"
  }
 },
 "nbformat": 4,
 "nbformat_minor": 2
}
