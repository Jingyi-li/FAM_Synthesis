{
 "cells": [
  {
   "cell_type": "code",
   "execution_count": 1,
   "metadata": {},
   "outputs": [
    {
     "data": {
      "application/javascript": [
       "\n",
       "try {\n",
       "require(['notebook/js/codecell'], function(codecell) {\n",
       "  codecell.CodeCell.options_default.highlight_modes[\n",
       "      'magic_text/x-csrc'] = {'reg':[/^%%microblaze/]};\n",
       "  Jupyter.notebook.events.one('kernel_ready.Kernel', function(){\n",
       "      Jupyter.notebook.get_cells().map(function(cell){\n",
       "          if (cell.cell_type == 'code'){ cell.auto_highlight(); } }) ;\n",
       "  });\n",
       "});\n",
       "} catch (e) {};\n"
      ]
     },
     "metadata": {},
     "output_type": "display_data"
    },
    {
     "data": {
      "application/javascript": [
       "\n",
       "try {\n",
       "require(['notebook/js/codecell'], function(codecell) {\n",
       "  codecell.CodeCell.options_default.highlight_modes[\n",
       "      'magic_text/x-csrc'] = {'reg':[/^%%pybind11/]};\n",
       "  Jupyter.notebook.events.one('kernel_ready.Kernel', function(){\n",
       "      Jupyter.notebook.get_cells().map(function(cell){\n",
       "          if (cell.cell_type == 'code'){ cell.auto_highlight(); } }) ;\n",
       "  });\n",
       "});\n",
       "} catch (e) {};\n"
      ]
     },
     "metadata": {},
     "output_type": "display_data"
    },
    {
     "data": {
      "text/plain": [
       "RegisterMap {\n",
       "  CTRL = Register(AP_START=0, AP_DONE=0, AP_IDLE=1, AP_READY=0, RESERVED_1=0, AUTO_RESTART=0, RESERVED_2=0),\n",
       "  GIER = Register(Enable=0, RESERVED=0),\n",
       "  IP_IER = Register(CHAN0_INT_EN=0, CHAN1_INT_EN=0, RESERVED=0),\n",
       "  IP_ISR = Register(CHAN0_INT_ST=0, CHAN1_INT_ST=0, RESERVED=0)\n",
       "}"
      ]
     },
     "execution_count": 1,
     "metadata": {},
     "output_type": "execute_result"
    }
   ],
   "source": [
    "import pynq\n",
    "import numpy as np\n",
    "from tqdm import tqdm\n",
    "import time\n",
    "#from sklearn.metrics import average_precision_score, roc_auc_score\n",
    "\n",
    "# 通过PYNQ将合成电路写入FPGA中\n",
    "ol_loda = pynq.Overlay('./Dummy_full.bit')\n",
    "mSCD = ol_loda.model_SCD_0\n",
    "mM2M = ol_loda.Multi2Multi_0\n",
    "mM2O = ol_loda.Multi2One_0\n",
    "\n",
    "CONTROL_REGISTER = 0x0\n",
    "mM2O.register_map"
   ]
  },
  {
   "cell_type": "code",
   "execution_count": 2,
   "metadata": {},
   "outputs": [
    {
     "name": "stdout",
     "output_type": "stream",
     "text": [
      "X_train.shape =  (2048, 2)\n"
     ]
    }
   ],
   "source": [
    "def _load_via_txt(path):\n",
    "    X = np.loadtxt(path, delimiter=\",\")\n",
    "    return X\n",
    "\n",
    "def get_data(data_file):\n",
    "    #data_path = os.path.join(data_base_path, data_file)\n",
    "    data_path = data_file\n",
    "    if \".mat\" in data_file:\n",
    "        from scipy.io import loadmat\n",
    "        f = loadmat(data_path)\n",
    "        X = f['X']\n",
    "    else:\n",
    "        X = _load_via_txt(data_path)\n",
    "    return X\n",
    "\n",
    "X_train = get_data(\"./deepsig.dat\")  # Load Aryhytmia data.\n",
    "print(\"X_train.shape = \",X_train.shape)"
   ]
  },
  {
   "cell_type": "code",
   "execution_count": 3,
   "metadata": {},
   "outputs": [],
   "source": [
    "# 使用AXI DMA进行存储器传输\n",
    "dma_i = ol_loda.axi_dma_0.sendchannel\n",
    "dma_q = ol_loda.axi_dma_1.sendchannel\n",
    "dma_v = ol_loda.axi_dma_2.recvchannel\n",
    "dma_a = ol_loda.axi_dma_3.recvchannel\n",
    "dma_f = ol_loda.axi_dma_4.recvchannel\n",
    "# 处理大量数据\n",
    "N = 2048 # X_train.shape[0]\n",
    "Nout = 32768\n",
    "NSamples = 100\n",
    "\n",
    "buff_x = pynq.allocate(shape=(NSamples*N,), dtype=np.float16)\n",
    "buff_y = pynq.allocate(shape=(NSamples*N,), dtype=np.float16)\n",
    "buff_value = pynq.allocate(shape=(NSamples*Nout,), dtype=np.float16)\n",
    "buff_al = pynq.allocate(shape=(NSamples*Nout,), dtype=np.float16)\n",
    "buff_fl = pynq.allocate(shape=(NSamples*Nout,), dtype=np.float16)\n",
    "\n",
    "# print(\"X_train[0:N] = \",X_train[0:N][:])\n",
    "\n",
    "\n",
    "for j in range (NSamples):\n",
    "    buff_x[j*N:(j+1)*N] = X_train[0:N,0]\n",
    "    buff_y[j*N:(j+1)*N] = X_train[0:N,1]\n",
    "    "
   ]
  },
  {
   "cell_type": "code",
   "execution_count": 4,
   "metadata": {},
   "outputs": [
    {
     "name": "stdout",
     "output_type": "stream",
     "text": [
      "=> Running on FPGA\n",
      "0.01610589027404785\n",
      "\n"
     ]
    }
   ],
   "source": [
    "start = time.time()\n",
    "mSCD.write(CONTROL_REGISTER, 0x81) # 0x81 will set bit 0\n",
    "mM2M.write(CONTROL_REGISTER, 0x81) # 0x81 will set bit 0\n",
    "mM2O.write(CONTROL_REGISTER, 0x81) # 0x81 will set bit 0\n",
    "\n",
    "dma_i.transfer(buff_x)\n",
    "dma_q.transfer(buff_y)\n",
    "dma_v.transfer(buff_value)\n",
    "dma_a.transfer(buff_al)\n",
    "dma_f.transfer(buff_fl)\n",
    "dma_i.wait()\n",
    "dma_q.wait()\n",
    "# dma_r.wait()\n",
    "end = time.time()\n",
    "mSCD.write(CONTROL_REGISTER,0x00) # stop\n",
    "mM2M.write(CONTROL_REGISTER,0x00) # stop\n",
    "mM2O.write(CONTROL_REGISTER,0x00) # stop\n",
    "time_cost= end-start\n",
    "print('=> Running on FPGA')\n",
    "print(time_cost)\n",
    "print()"
   ]
  }
 ],
 "metadata": {
  "kernelspec": {
   "display_name": "Python 3",
   "language": "python",
   "name": "python3"
  },
  "language_info": {
   "codemirror_mode": {
    "name": "ipython",
    "version": 3
   },
   "file_extension": ".py",
   "mimetype": "text/x-python",
   "name": "python",
   "nbconvert_exporter": "python",
   "pygments_lexer": "ipython3",
   "version": "3.6.5"
  }
 },
 "nbformat": 4,
 "nbformat_minor": 2
}
